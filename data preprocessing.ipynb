{
    "cells": [
        {
            "cell_type": "code",
            "execution_count": 1,
            "metadata": {
                "scrolled": true
            },
            "outputs": [
                {
                    "data": {
                        "text/html": "<div>\n<style scoped>\n    .dataframe tbody tr th:only-of-type {\n        vertical-align: middle;\n    }\n\n    .dataframe tbody tr th {\n        vertical-align: top;\n    }\n\n    .dataframe thead th {\n        text-align: right;\n    }\n</style>\n<table border=\"1\" class=\"dataframe\">\n  <thead>\n    <tr style=\"text-align: right;\">\n      <th></th>\n      <th>Sample code number</th>\n      <th>Clump Thickness</th>\n      <th>Uniformity of Cell Size</th>\n      <th>Uniformity of Cell Shape</th>\n      <th>Marginal Adhesion</th>\n      <th>Single Epithelial Cell Size</th>\n      <th>Bare Nuclei</th>\n      <th>Bland Chromatin</th>\n      <th>Normal Nucleoli</th>\n      <th>Mitoses</th>\n      <th>Class</th>\n    </tr>\n  </thead>\n  <tbody>\n    <tr>\n      <th>0</th>\n      <td>1000025</td>\n      <td>5</td>\n      <td>1</td>\n      <td>1</td>\n      <td>1</td>\n      <td>2</td>\n      <td>1</td>\n      <td>3</td>\n      <td>1</td>\n      <td>1</td>\n      <td>2</td>\n    </tr>\n    <tr>\n      <th>1</th>\n      <td>1002945</td>\n      <td>5</td>\n      <td>4</td>\n      <td>4</td>\n      <td>5</td>\n      <td>7</td>\n      <td>10</td>\n      <td>3</td>\n      <td>2</td>\n      <td>1</td>\n      <td>2</td>\n    </tr>\n    <tr>\n      <th>2</th>\n      <td>1015425</td>\n      <td>3</td>\n      <td>1</td>\n      <td>1</td>\n      <td>1</td>\n      <td>2</td>\n      <td>2</td>\n      <td>3</td>\n      <td>1</td>\n      <td>1</td>\n      <td>2</td>\n    </tr>\n    <tr>\n      <th>3</th>\n      <td>1016277</td>\n      <td>6</td>\n      <td>8</td>\n      <td>8</td>\n      <td>1</td>\n      <td>3</td>\n      <td>4</td>\n      <td>3</td>\n      <td>7</td>\n      <td>1</td>\n      <td>2</td>\n    </tr>\n    <tr>\n      <th>4</th>\n      <td>1017023</td>\n      <td>4</td>\n      <td>1</td>\n      <td>1</td>\n      <td>3</td>\n      <td>2</td>\n      <td>1</td>\n      <td>3</td>\n      <td>1</td>\n      <td>1</td>\n      <td>2</td>\n    </tr>\n  </tbody>\n</table>\n</div>",
                        "text/plain": "   Sample code number  Clump Thickness  Uniformity of Cell Size  \\\n0             1000025                5                        1   \n1             1002945                5                        4   \n2             1015425                3                        1   \n3             1016277                6                        8   \n4             1017023                4                        1   \n\n   Uniformity of Cell Shape  Marginal Adhesion  Single Epithelial Cell Size  \\\n0                         1                  1                            2   \n1                         4                  5                            7   \n2                         1                  1                            2   \n3                         8                  1                            3   \n4                         1                  3                            2   \n\n   Bare Nuclei  Bland Chromatin  Normal Nucleoli  Mitoses  Class  \n0            1                3                1        1      2  \n1           10                3                2        1      2  \n2            2                3                1        1      2  \n3            4                3                7        1      2  \n4            1                3                1        1      2  "
                    },
                    "execution_count": 1,
                    "metadata": {},
                    "output_type": "execute_result"
                }
            ],
            "source": "# The code was removed by Watson Studio for sharing."
        },
        {
            "cell_type": "code",
            "execution_count": 2,
            "metadata": {},
            "outputs": [
                {
                    "data": {
                        "text/html": "<div>\n<style scoped>\n    .dataframe tbody tr th:only-of-type {\n        vertical-align: middle;\n    }\n\n    .dataframe tbody tr th {\n        vertical-align: top;\n    }\n\n    .dataframe thead th {\n        text-align: right;\n    }\n</style>\n<table border=\"1\" class=\"dataframe\">\n  <thead>\n    <tr style=\"text-align: right;\">\n      <th></th>\n      <th>Clump Thickness</th>\n      <th>Uniformity of Cell Size</th>\n      <th>Uniformity of Cell Shape</th>\n    </tr>\n  </thead>\n  <tbody>\n    <tr>\n      <th>2</th>\n      <td>3</td>\n      <td>1</td>\n      <td>1</td>\n    </tr>\n  </tbody>\n</table>\n</div>",
                        "text/plain": "   Clump Thickness  Uniformity of Cell Size  Uniformity of Cell Shape\n2                3                        1                         1"
                    },
                    "execution_count": 2,
                    "metadata": {},
                    "output_type": "execute_result"
                }
            ],
            "source": "df_data_1.iloc[2:3,1:4].head() #iloc: where coloumn should be defined by indexes"
        },
        {
            "cell_type": "code",
            "execution_count": 3,
            "metadata": {},
            "outputs": [
                {
                    "data": {
                        "text/html": "<div>\n<style scoped>\n    .dataframe tbody tr th:only-of-type {\n        vertical-align: middle;\n    }\n\n    .dataframe tbody tr th {\n        vertical-align: top;\n    }\n\n    .dataframe thead th {\n        text-align: right;\n    }\n</style>\n<table border=\"1\" class=\"dataframe\">\n  <thead>\n    <tr style=\"text-align: right;\">\n      <th></th>\n      <th>Clump Thickness</th>\n      <th>Bare Nuclei</th>\n    </tr>\n  </thead>\n  <tbody>\n    <tr>\n      <th>2</th>\n      <td>3</td>\n      <td>2</td>\n    </tr>\n    <tr>\n      <th>3</th>\n      <td>6</td>\n      <td>4</td>\n    </tr>\n    <tr>\n      <th>4</th>\n      <td>4</td>\n      <td>1</td>\n    </tr>\n  </tbody>\n</table>\n</div>",
                        "text/plain": "   Clump Thickness  Bare Nuclei\n2                3            2\n3                6            4\n4                4            1"
                    },
                    "execution_count": 3,
                    "metadata": {},
                    "output_type": "execute_result"
                }
            ],
            "source": "df_data_1.loc[2:4,[\"Clump Thickness\",\"Bare Nuclei\"]]  #loc: where column should be defines by name\n\n"
        },
        {
            "cell_type": "code",
            "execution_count": 4,
            "metadata": {},
            "outputs": [
                {
                    "data": {
                        "text/html": "<div>\n<style scoped>\n    .dataframe tbody tr th:only-of-type {\n        vertical-align: middle;\n    }\n\n    .dataframe tbody tr th {\n        vertical-align: top;\n    }\n\n    .dataframe thead th {\n        text-align: right;\n    }\n</style>\n<table border=\"1\" class=\"dataframe\">\n  <thead>\n    <tr style=\"text-align: right;\">\n      <th></th>\n      <th>Sample code number</th>\n      <th>Clump Thickness</th>\n      <th>Uniformity of Cell Size</th>\n      <th>Uniformity of Cell Shape</th>\n      <th>Marginal Adhesion</th>\n      <th>Single Epithelial Cell Size</th>\n      <th>Bare Nuclei</th>\n      <th>Bland Chromatin</th>\n      <th>Normal Nucleoli</th>\n      <th>Mitoses</th>\n      <th>Class</th>\n    </tr>\n  </thead>\n  <tbody>\n    <tr>\n      <th>0</th>\n      <td>1000025</td>\n      <td>5</td>\n      <td>1</td>\n      <td>1</td>\n      <td>1</td>\n      <td>2</td>\n      <td>1</td>\n      <td>3</td>\n      <td>1</td>\n      <td>1</td>\n      <td>2</td>\n    </tr>\n    <tr>\n      <th>1</th>\n      <td>1002945</td>\n      <td>5</td>\n      <td>4</td>\n      <td>4</td>\n      <td>5</td>\n      <td>7</td>\n      <td>10</td>\n      <td>3</td>\n      <td>2</td>\n      <td>1</td>\n      <td>2</td>\n    </tr>\n    <tr>\n      <th>2</th>\n      <td>1015425</td>\n      <td>3</td>\n      <td>1</td>\n      <td>1</td>\n      <td>1</td>\n      <td>2</td>\n      <td>2</td>\n      <td>3</td>\n      <td>1</td>\n      <td>1</td>\n      <td>2</td>\n    </tr>\n    <tr>\n      <th>3</th>\n      <td>1016277</td>\n      <td>6</td>\n      <td>8</td>\n      <td>8</td>\n      <td>1</td>\n      <td>3</td>\n      <td>4</td>\n      <td>3</td>\n      <td>7</td>\n      <td>1</td>\n      <td>2</td>\n    </tr>\n  </tbody>\n</table>\n</div>",
                        "text/plain": "   Sample code number  Clump Thickness  Uniformity of Cell Size  \\\n0             1000025                5                        1   \n1             1002945                5                        4   \n2             1015425                3                        1   \n3             1016277                6                        8   \n\n   Uniformity of Cell Shape  Marginal Adhesion  Single Epithelial Cell Size  \\\n0                         1                  1                            2   \n1                         4                  5                            7   \n2                         1                  1                            2   \n3                         8                  1                            3   \n\n   Bare Nuclei  Bland Chromatin  Normal Nucleoli  Mitoses  Class  \n0            1                3                1        1      2  \n1           10                3                2        1      2  \n2            2                3                1        1      2  \n3            4                3                7        1      2  "
                    },
                    "execution_count": 4,
                    "metadata": {},
                    "output_type": "execute_result"
                }
            ],
            "source": "df_data_1.iloc[0:4]"
        },
        {
            "cell_type": "code",
            "execution_count": 5,
            "metadata": {},
            "outputs": [
                {
                    "data": {
                        "text/plain": "Uniformity of Cell Size        3.150805\nUniformity of Cell Shape       3.215227\nMarginal Adhesion              2.830161\nSingle Epithelial Cell Size    3.234261\ndtype: float64"
                    },
                    "execution_count": 5,
                    "metadata": {},
                    "output_type": "execute_result"
                }
            ],
            "source": "df_data_1.iloc[:,2:6].mean()    #evaluates mean values of columns defaultly"
        },
        {
            "cell_type": "code",
            "execution_count": 6,
            "metadata": {},
            "outputs": [
                {
                    "data": {
                        "text/plain": "0       1.000000\n1       4.333333\n2       1.000000\n3       5.666667\n4       1.666667\n5       9.333333\n6       1.000000\n7       1.333333\n8       1.000000\n9       1.333333\n10      1.000000\n11      1.000000\n12      3.000000\n13      1.000000\n14      7.333333\n15      4.666667\n16      1.000000\n17      1.000000\n18      6.666667\n19      1.000000\n20      5.000000\n21      4.333333\n22      1.000000\n23      1.000000\n24      3.000000\n25      1.333333\n26      1.000000\n27      1.000000\n28      1.666667\n29      1.000000\n         ...    \n653     9.333333\n654     8.333333\n655     1.666667\n656     1.000000\n657     2.000000\n658     1.000000\n659     2.000000\n660     1.333333\n661     1.000000\n662     1.000000\n663     1.000000\n664    10.000000\n665    10.000000\n666     1.000000\n667     1.000000\n668     1.000000\n669     1.000000\n670     1.000000\n671     1.000000\n672     1.000000\n673     1.000000\n674     1.666667\n675     8.333333\n676     1.000000\n677     1.000000\n678     1.000000\n679     1.000000\n680     7.666667\n681     6.000000\n682     7.000000\nLength: 683, dtype: float64"
                    },
                    "execution_count": 6,
                    "metadata": {},
                    "output_type": "execute_result"
                }
            ],
            "source": "df_data_1.iloc[:,2:5].mean(axis=1)   #evaluates mean value of rows when axis =1"
        },
        {
            "cell_type": "code",
            "execution_count": 7,
            "metadata": {},
            "outputs": [
                {
                    "data": {
                        "text/html": "<div>\n<style scoped>\n    .dataframe tbody tr th:only-of-type {\n        vertical-align: middle;\n    }\n\n    .dataframe tbody tr th {\n        vertical-align: top;\n    }\n\n    .dataframe thead th {\n        text-align: right;\n    }\n</style>\n<table border=\"1\" class=\"dataframe\">\n  <thead>\n    <tr style=\"text-align: right;\">\n      <th></th>\n      <th>Sample code number</th>\n      <th>Clump Thickness</th>\n      <th>Uniformity of Cell Size</th>\n      <th>Uniformity of Cell Shape</th>\n      <th>Marginal Adhesion</th>\n      <th>Single Epithelial Cell Size</th>\n      <th>Bare Nuclei</th>\n      <th>Bland Chromatin</th>\n      <th>Normal Nucleoli</th>\n      <th>Mitoses</th>\n      <th>Class</th>\n    </tr>\n  </thead>\n  <tbody>\n    <tr>\n      <th>Sample code number</th>\n      <td>1.000000</td>\n      <td>-0.056350</td>\n      <td>-0.041396</td>\n      <td>-0.042221</td>\n      <td>-0.069630</td>\n      <td>-0.048644</td>\n      <td>-0.099248</td>\n      <td>-0.061966</td>\n      <td>-0.050699</td>\n      <td>-0.037972</td>\n      <td>-0.084701</td>\n    </tr>\n    <tr>\n      <th>Clump Thickness</th>\n      <td>-0.056350</td>\n      <td>1.000000</td>\n      <td>0.642481</td>\n      <td>0.653470</td>\n      <td>0.487829</td>\n      <td>0.523596</td>\n      <td>0.593091</td>\n      <td>0.553742</td>\n      <td>0.534066</td>\n      <td>0.350957</td>\n      <td>0.714790</td>\n    </tr>\n    <tr>\n      <th>Uniformity of Cell Size</th>\n      <td>-0.041396</td>\n      <td>0.642481</td>\n      <td>1.000000</td>\n      <td>0.907228</td>\n      <td>0.706977</td>\n      <td>0.753544</td>\n      <td>0.691709</td>\n      <td>0.755559</td>\n      <td>0.719346</td>\n      <td>0.460755</td>\n      <td>0.820801</td>\n    </tr>\n    <tr>\n      <th>Uniformity of Cell Shape</th>\n      <td>-0.042221</td>\n      <td>0.653470</td>\n      <td>0.907228</td>\n      <td>1.000000</td>\n      <td>0.685948</td>\n      <td>0.722462</td>\n      <td>0.713878</td>\n      <td>0.735344</td>\n      <td>0.717963</td>\n      <td>0.441258</td>\n      <td>0.821891</td>\n    </tr>\n    <tr>\n      <th>Marginal Adhesion</th>\n      <td>-0.069630</td>\n      <td>0.487829</td>\n      <td>0.706977</td>\n      <td>0.685948</td>\n      <td>1.000000</td>\n      <td>0.594548</td>\n      <td>0.670648</td>\n      <td>0.668567</td>\n      <td>0.603121</td>\n      <td>0.418898</td>\n      <td>0.706294</td>\n    </tr>\n    <tr>\n      <th>Single Epithelial Cell Size</th>\n      <td>-0.048644</td>\n      <td>0.523596</td>\n      <td>0.753544</td>\n      <td>0.722462</td>\n      <td>0.594548</td>\n      <td>1.000000</td>\n      <td>0.585716</td>\n      <td>0.618128</td>\n      <td>0.628926</td>\n      <td>0.480583</td>\n      <td>0.690958</td>\n    </tr>\n    <tr>\n      <th>Bare Nuclei</th>\n      <td>-0.099248</td>\n      <td>0.593091</td>\n      <td>0.691709</td>\n      <td>0.713878</td>\n      <td>0.670648</td>\n      <td>0.585716</td>\n      <td>1.000000</td>\n      <td>0.680615</td>\n      <td>0.584280</td>\n      <td>0.339210</td>\n      <td>0.822696</td>\n    </tr>\n    <tr>\n      <th>Bland Chromatin</th>\n      <td>-0.061966</td>\n      <td>0.553742</td>\n      <td>0.755559</td>\n      <td>0.735344</td>\n      <td>0.668567</td>\n      <td>0.618128</td>\n      <td>0.680615</td>\n      <td>1.000000</td>\n      <td>0.665602</td>\n      <td>0.346011</td>\n      <td>0.758228</td>\n    </tr>\n    <tr>\n      <th>Normal Nucleoli</th>\n      <td>-0.050699</td>\n      <td>0.534066</td>\n      <td>0.719346</td>\n      <td>0.717963</td>\n      <td>0.603121</td>\n      <td>0.628926</td>\n      <td>0.584280</td>\n      <td>0.665602</td>\n      <td>1.000000</td>\n      <td>0.433757</td>\n      <td>0.718677</td>\n    </tr>\n    <tr>\n      <th>Mitoses</th>\n      <td>-0.037972</td>\n      <td>0.350957</td>\n      <td>0.460755</td>\n      <td>0.441258</td>\n      <td>0.418898</td>\n      <td>0.480583</td>\n      <td>0.339210</td>\n      <td>0.346011</td>\n      <td>0.433757</td>\n      <td>1.000000</td>\n      <td>0.423448</td>\n    </tr>\n    <tr>\n      <th>Class</th>\n      <td>-0.084701</td>\n      <td>0.714790</td>\n      <td>0.820801</td>\n      <td>0.821891</td>\n      <td>0.706294</td>\n      <td>0.690958</td>\n      <td>0.822696</td>\n      <td>0.758228</td>\n      <td>0.718677</td>\n      <td>0.423448</td>\n      <td>1.000000</td>\n    </tr>\n  </tbody>\n</table>\n</div>",
                        "text/plain": "                             Sample code number  Clump Thickness  \\\nSample code number                     1.000000        -0.056350   \nClump Thickness                       -0.056350         1.000000   \nUniformity of Cell Size               -0.041396         0.642481   \nUniformity of Cell Shape              -0.042221         0.653470   \nMarginal Adhesion                     -0.069630         0.487829   \nSingle Epithelial Cell Size           -0.048644         0.523596   \nBare Nuclei                           -0.099248         0.593091   \nBland Chromatin                       -0.061966         0.553742   \nNormal Nucleoli                       -0.050699         0.534066   \nMitoses                               -0.037972         0.350957   \nClass                                 -0.084701         0.714790   \n\n                             Uniformity of Cell Size  \\\nSample code number                         -0.041396   \nClump Thickness                             0.642481   \nUniformity of Cell Size                     1.000000   \nUniformity of Cell Shape                    0.907228   \nMarginal Adhesion                           0.706977   \nSingle Epithelial Cell Size                 0.753544   \nBare Nuclei                                 0.691709   \nBland Chromatin                             0.755559   \nNormal Nucleoli                             0.719346   \nMitoses                                     0.460755   \nClass                                       0.820801   \n\n                             Uniformity of Cell Shape  Marginal Adhesion  \\\nSample code number                          -0.042221          -0.069630   \nClump Thickness                              0.653470           0.487829   \nUniformity of Cell Size                      0.907228           0.706977   \nUniformity of Cell Shape                     1.000000           0.685948   \nMarginal Adhesion                            0.685948           1.000000   \nSingle Epithelial Cell Size                  0.722462           0.594548   \nBare Nuclei                                  0.713878           0.670648   \nBland Chromatin                              0.735344           0.668567   \nNormal Nucleoli                              0.717963           0.603121   \nMitoses                                      0.441258           0.418898   \nClass                                        0.821891           0.706294   \n\n                             Single Epithelial Cell Size  Bare Nuclei  \\\nSample code number                             -0.048644    -0.099248   \nClump Thickness                                 0.523596     0.593091   \nUniformity of Cell Size                         0.753544     0.691709   \nUniformity of Cell Shape                        0.722462     0.713878   \nMarginal Adhesion                               0.594548     0.670648   \nSingle Epithelial Cell Size                     1.000000     0.585716   \nBare Nuclei                                     0.585716     1.000000   \nBland Chromatin                                 0.618128     0.680615   \nNormal Nucleoli                                 0.628926     0.584280   \nMitoses                                         0.480583     0.339210   \nClass                                           0.690958     0.822696   \n\n                             Bland Chromatin  Normal Nucleoli   Mitoses  \\\nSample code number                 -0.061966        -0.050699 -0.037972   \nClump Thickness                     0.553742         0.534066  0.350957   \nUniformity of Cell Size             0.755559         0.719346  0.460755   \nUniformity of Cell Shape            0.735344         0.717963  0.441258   \nMarginal Adhesion                   0.668567         0.603121  0.418898   \nSingle Epithelial Cell Size         0.618128         0.628926  0.480583   \nBare Nuclei                         0.680615         0.584280  0.339210   \nBland Chromatin                     1.000000         0.665602  0.346011   \nNormal Nucleoli                     0.665602         1.000000  0.433757   \nMitoses                             0.346011         0.433757  1.000000   \nClass                               0.758228         0.718677  0.423448   \n\n                                Class  \nSample code number          -0.084701  \nClump Thickness              0.714790  \nUniformity of Cell Size      0.820801  \nUniformity of Cell Shape     0.821891  \nMarginal Adhesion            0.706294  \nSingle Epithelial Cell Size  0.690958  \nBare Nuclei                  0.822696  \nBland Chromatin              0.758228  \nNormal Nucleoli              0.718677  \nMitoses                      0.423448  \nClass                        1.000000  "
                    },
                    "execution_count": 7,
                    "metadata": {},
                    "output_type": "execute_result"
                }
            ],
            "source": "df_data_1.corr()  #evaluates the correlation between the variables"
        },
        {
            "cell_type": "code",
            "execution_count": 8,
            "metadata": {},
            "outputs": [
                {
                    "data": {
                        "text/plain": "0     True\n1     True\n2    False\n3     True\n4     True\nName: Clump Thickness, dtype: bool"
                    },
                    "execution_count": 8,
                    "metadata": {},
                    "output_type": "execute_result"
                }
            ],
            "source": "data = df_data_1[\"Clump Thickness\"]>3\ndata.head()"
        },
        {
            "cell_type": "code",
            "execution_count": 9,
            "metadata": {},
            "outputs": [
                {
                    "data": {
                        "text/html": "<div>\n<style scoped>\n    .dataframe tbody tr th:only-of-type {\n        vertical-align: middle;\n    }\n\n    .dataframe tbody tr th {\n        vertical-align: top;\n    }\n\n    .dataframe thead th {\n        text-align: right;\n    }\n</style>\n<table border=\"1\" class=\"dataframe\">\n  <thead>\n    <tr style=\"text-align: right;\">\n      <th></th>\n      <th>Sample code number</th>\n      <th>Clump Thickness</th>\n      <th>Uniformity of Cell Size</th>\n      <th>Uniformity of Cell Shape</th>\n      <th>Marginal Adhesion</th>\n      <th>Single Epithelial Cell Size</th>\n      <th>Bare Nuclei</th>\n      <th>Bland Chromatin</th>\n      <th>Normal Nucleoli</th>\n      <th>Mitoses</th>\n      <th>Class</th>\n    </tr>\n  </thead>\n  <tbody>\n    <tr>\n      <th>0</th>\n      <td>1000025</td>\n      <td>5</td>\n      <td>1</td>\n      <td>1</td>\n      <td>1</td>\n      <td>2</td>\n      <td>1</td>\n      <td>3</td>\n      <td>1</td>\n      <td>1</td>\n      <td>2</td>\n    </tr>\n    <tr>\n      <th>1</th>\n      <td>1002945</td>\n      <td>5</td>\n      <td>4</td>\n      <td>4</td>\n      <td>5</td>\n      <td>7</td>\n      <td>10</td>\n      <td>3</td>\n      <td>2</td>\n      <td>1</td>\n      <td>2</td>\n    </tr>\n    <tr>\n      <th>3</th>\n      <td>1016277</td>\n      <td>6</td>\n      <td>8</td>\n      <td>8</td>\n      <td>1</td>\n      <td>3</td>\n      <td>4</td>\n      <td>3</td>\n      <td>7</td>\n      <td>1</td>\n      <td>2</td>\n    </tr>\n    <tr>\n      <th>4</th>\n      <td>1017023</td>\n      <td>4</td>\n      <td>1</td>\n      <td>1</td>\n      <td>3</td>\n      <td>2</td>\n      <td>1</td>\n      <td>3</td>\n      <td>1</td>\n      <td>1</td>\n      <td>2</td>\n    </tr>\n    <tr>\n      <th>5</th>\n      <td>1017122</td>\n      <td>8</td>\n      <td>10</td>\n      <td>10</td>\n      <td>8</td>\n      <td>7</td>\n      <td>10</td>\n      <td>9</td>\n      <td>7</td>\n      <td>1</td>\n      <td>4</td>\n    </tr>\n  </tbody>\n</table>\n</div>",
                        "text/plain": "   Sample code number  Clump Thickness  Uniformity of Cell Size  \\\n0             1000025                5                        1   \n1             1002945                5                        4   \n3             1016277                6                        8   \n4             1017023                4                        1   \n5             1017122                8                       10   \n\n   Uniformity of Cell Shape  Marginal Adhesion  Single Epithelial Cell Size  \\\n0                         1                  1                            2   \n1                         4                  5                            7   \n3                         8                  1                            3   \n4                         1                  3                            2   \n5                        10                  8                            7   \n\n   Bare Nuclei  Bland Chromatin  Normal Nucleoli  Mitoses  Class  \n0            1                3                1        1      2  \n1           10                3                2        1      2  \n3            4                3                7        1      2  \n4            1                3                1        1      2  \n5           10                9                7        1      4  "
                    },
                    "execution_count": 9,
                    "metadata": {},
                    "output_type": "execute_result"
                }
            ],
            "source": "filter = df_data_1[data]\nfilter.head()"
        },
        {
            "cell_type": "code",
            "execution_count": 10,
            "metadata": {},
            "outputs": [
                {
                    "data": {
                        "text/html": "<div>\n<style scoped>\n    .dataframe tbody tr th:only-of-type {\n        vertical-align: middle;\n    }\n\n    .dataframe tbody tr th {\n        vertical-align: top;\n    }\n\n    .dataframe thead th {\n        text-align: right;\n    }\n</style>\n<table border=\"1\" class=\"dataframe\">\n  <thead>\n    <tr style=\"text-align: right;\">\n      <th></th>\n      <th>Sample code number</th>\n      <th>Clump Thickness</th>\n      <th>Uniformity of Cell Size</th>\n      <th>Uniformity of Cell Shape</th>\n      <th>Marginal Adhesion</th>\n      <th>Single Epithelial Cell Size</th>\n      <th>Bare Nuclei</th>\n      <th>Bland Chromatin</th>\n      <th>Normal Nucleoli</th>\n      <th>Mitoses</th>\n      <th>Class</th>\n    </tr>\n  </thead>\n  <tbody>\n    <tr>\n      <th>5</th>\n      <td>1017122</td>\n      <td>8</td>\n      <td>10</td>\n      <td>10</td>\n      <td>8</td>\n      <td>7</td>\n      <td>10</td>\n      <td>9</td>\n      <td>7</td>\n      <td>1</td>\n      <td>4</td>\n    </tr>\n    <tr>\n      <th>14</th>\n      <td>1044572</td>\n      <td>8</td>\n      <td>7</td>\n      <td>5</td>\n      <td>10</td>\n      <td>7</td>\n      <td>9</td>\n      <td>5</td>\n      <td>5</td>\n      <td>4</td>\n      <td>4</td>\n    </tr>\n    <tr>\n      <th>18</th>\n      <td>1050670</td>\n      <td>10</td>\n      <td>7</td>\n      <td>7</td>\n      <td>6</td>\n      <td>4</td>\n      <td>10</td>\n      <td>4</td>\n      <td>1</td>\n      <td>2</td>\n      <td>4</td>\n    </tr>\n    <tr>\n      <th>20</th>\n      <td>1054590</td>\n      <td>7</td>\n      <td>3</td>\n      <td>2</td>\n      <td>10</td>\n      <td>5</td>\n      <td>10</td>\n      <td>5</td>\n      <td>4</td>\n      <td>4</td>\n      <td>4</td>\n    </tr>\n    <tr>\n      <th>21</th>\n      <td>1054593</td>\n      <td>10</td>\n      <td>5</td>\n      <td>5</td>\n      <td>3</td>\n      <td>6</td>\n      <td>7</td>\n      <td>7</td>\n      <td>10</td>\n      <td>1</td>\n      <td>4</td>\n    </tr>\n  </tbody>\n</table>\n</div>",
                        "text/plain": "    Sample code number  Clump Thickness  Uniformity of Cell Size  \\\n5              1017122                8                       10   \n14             1044572                8                        7   \n18             1050670               10                        7   \n20             1054590                7                        3   \n21             1054593               10                        5   \n\n    Uniformity of Cell Shape  Marginal Adhesion  Single Epithelial Cell Size  \\\n5                         10                  8                            7   \n14                         5                 10                            7   \n18                         7                  6                            4   \n20                         2                 10                            5   \n21                         5                  3                            6   \n\n    Bare Nuclei  Bland Chromatin  Normal Nucleoli  Mitoses  Class  \n5            10                9                7        1      4  \n14            9                5                5        4      4  \n18           10                4                1        2      4  \n20           10                5                4        4      4  \n21            7                7               10        1      4  "
                    },
                    "execution_count": 10,
                    "metadata": {},
                    "output_type": "execute_result"
                }
            ],
            "source": "x= (df_data_1[\"Clump Thickness\"]>6) & (df_data_1[\"Bare Nuclei\"]>4)\nfiltered_data= df_data_1[x]\nfiltered_data.head()"
        },
        {
            "cell_type": "code",
            "execution_count": 11,
            "metadata": {},
            "outputs": [
                {
                    "data": {
                        "text/plain": "<matplotlib.axes._subplots.AxesSubplot at 0x7f9b694127b8>"
                    },
                    "execution_count": 11,
                    "metadata": {},
                    "output_type": "execute_result"
                }
            ],
            "source": "df_data_1[df_data_1[\"Clump Thickness\"]==10][\"Class\"].plot(kind='hist')"
        },
        {
            "cell_type": "code",
            "execution_count": null,
            "metadata": {},
            "outputs": [],
            "source": ""
        }
    ],
    "metadata": {
        "kernelspec": {
            "display_name": "Python 3.6",
            "language": "python",
            "name": "python3"
        },
        "language_info": {
            "codemirror_mode": {
                "name": "ipython",
                "version": 3
            },
            "file_extension": ".py",
            "mimetype": "text/x-python",
            "name": "python",
            "nbconvert_exporter": "python",
            "pygments_lexer": "ipython3",
            "version": "3.6.9"
        }
    },
    "nbformat": 4,
    "nbformat_minor": 1
}